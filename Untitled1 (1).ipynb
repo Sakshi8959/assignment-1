{
 "cells": [
  {
   "cell_type": "markdown",
   "id": "a554fb3d-58de-4476-8bcc-569cd2e86c42",
   "metadata": {},
   "source": [
    "Q1. Explain with an example each when to use a for loop and a while loop.\n",
    "\n",
    "\n",
    "for loop used for repetation of code..we can increse efficiency."
   ]
  },
  {
   "cell_type": "code",
   "execution_count": 8,
   "id": "5c78390d-24c0-4c19-b6b9-011f3c17d235",
   "metadata": {},
   "outputs": [
    {
     "name": "stdin",
     "output_type": "stream",
     "text": [
      "enter number : 2\n"
     ]
    },
    {
     "name": "stdout",
     "output_type": "stream",
     "text": [
      "2\n",
      "4\n",
      "6\n",
      "8\n",
      "10\n",
      "12\n",
      "14\n",
      "16\n",
      "18\n",
      "20\n"
     ]
    }
   ],
   "source": [
    "n = int(input(\"enter number :\"))\n",
    "for i in range(1,11) :\n",
    "    print( i*2)"
   ]
  },
  {
   "cell_type": "code",
   "execution_count": 9,
   "id": "fef0002b-9368-4a39-9fc2-a218b8d6b265",
   "metadata": {},
   "outputs": [
    {
     "name": "stdin",
     "output_type": "stream",
     "text": [
      "enter number  5\n"
     ]
    },
    {
     "data": {
      "text/plain": [
       "120"
      ]
     },
     "execution_count": 9,
     "metadata": {},
     "output_type": "execute_result"
    }
   ],
   "source": [
    "n = int(input(\"enter number \"))\n",
    "factorial = 1\n",
    "while n>0:\n",
    "    factorial = factorial*n\n",
    "    n = n-1\n",
    "factorial"
   ]
  },
  {
   "cell_type": "markdown",
   "id": "ad2885c7-8e4e-49cb-9d0d-8fecd80b503f",
   "metadata": {},
   "source": [
    "Q2. Write a python program to print the sum and product of the first 10 natural numbers using for\n",
    "and while loop."
   ]
  },
  {
   "cell_type": "code",
   "execution_count": 3,
   "id": "cb67e926-700b-43b7-ad27-efd0e49d2fdb",
   "metadata": {},
   "outputs": [
    {
     "name": "stdin",
     "output_type": "stream",
     "text": [
      "enter number :  11\n"
     ]
    },
    {
     "name": "stdout",
     "output_type": "stream",
     "text": [
      "55\n"
     ]
    }
   ],
   "source": [
    "num = int(input(\"enter number : \"))\n",
    "if num < 0:\n",
    "   print(\"Enter a positive number\")\n",
    "else:\n",
    "   sum = 0\n",
    "for i in range(1,11):\n",
    "    sum = sum + i\n",
    "    num = num+1\n",
    "print(sum)"
   ]
  },
  {
   "cell_type": "code",
   "execution_count": 5,
   "id": "97310d1e-b740-48a4-9b83-4985fc92652c",
   "metadata": {},
   "outputs": [
    {
     "name": "stdin",
     "output_type": "stream",
     "text": [
      "enter number : 11\n"
     ]
    },
    {
     "name": "stdout",
     "output_type": "stream",
     "text": [
      "66\n"
     ]
    }
   ],
   "source": [
    "n= int(input(\"enter number :\"))\n",
    "sum = 0\n",
    "while n > 0 :\n",
    "    sum = sum + n\n",
    "    n = n-1\n",
    "print(sum)\n",
    "    "
   ]
  },
  {
   "cell_type": "markdown",
   "id": "8ab5bf24-b78d-4f63-843f-30c85c7ddcc3",
   "metadata": {},
   "source": [
    "Q3. Create a python program to compute the electricity bill for a household\n",
    "The per-unit charges in rupees are as follows: For the first 100 units, the user will be charged Rs. 4.5 per\n",
    "unit, for the next 100 units, the user will be charged Rs. 6 per unit, and for the next 100 units, the user will\n",
    "be charged Rs. 10 per unit, After 300 units and above the user will be charged Rs. 20 per unit.\n",
    "You are required to take the units of electricity consumed in a month from the user as input.\n",
    "Your program must pass this test case: when the unit of electricity consumed by by the user in a month is\n",
    "310, the total electricity bill should be 2250."
   ]
  },
  {
   "cell_type": "markdown",
   "id": "c2226d9b-dcd0-4751-a731-800d9b1a0fa7",
   "metadata": {},
   "source": [
    "sir this one I do not undersand"
   ]
  },
  {
   "cell_type": "markdown",
   "id": "4bdc65a1-0287-4384-85ab-c41064ee14fb",
   "metadata": {},
   "source": [
    "Q5. Write a program to filter count vowels in the below-given string.\n",
    "string = \"I want to become a data scientist\""
   ]
  },
  {
   "cell_type": "code",
   "execution_count": 39,
   "id": "27ffea5d-6541-4de2-b45f-2073c6199795",
   "metadata": {},
   "outputs": [
    {
     "name": "stdout",
     "output_type": "stream",
     "text": [
      "i want to become a data scientist 12\n"
     ]
    }
   ],
   "source": [
    "s = (\" i want to become a data scientist\")\n",
    "count = 0\n",
    "vowals = 'a','i','o','u','e'\n",
    "for i in range(len(s)):\n",
    "    if s[i] in vowals:\n",
    "        count= count + 1\n",
    "print(\"i want to become a data scientist\",count)"
   ]
  }
 ],
 "metadata": {
  "kernelspec": {
   "display_name": "Python 3 (ipykernel)",
   "language": "python",
   "name": "python3"
  },
  "language_info": {
   "codemirror_mode": {
    "name": "ipython",
    "version": 3
   },
   "file_extension": ".py",
   "mimetype": "text/x-python",
   "name": "python",
   "nbconvert_exporter": "python",
   "pygments_lexer": "ipython3",
   "version": "3.10.9"
  }
 },
 "nbformat": 4,
 "nbformat_minor": 5
}
